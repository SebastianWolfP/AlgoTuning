{
 "cells": [
  {
   "cell_type": "code",
   "execution_count": null,
   "id": "7af0aa0d",
   "metadata": {},
   "outputs": [],
   "source": []
  },
  {
   "cell_type": "markdown",
   "id": "8d1eb44b",
   "metadata": {},
   "source": [
    "#### 1. Baseline: 41 % Accuracy, 0.40 F1 Score\n",
    "#### 2. Parameter Raster bauen, alle Kombinationen per Grid Search durchlaufen\n",
    "#### 3. Metriken, inkl. Accuracy, F1, Overfitting Indikatoren und Trainingszeit\n",
    "#### 4. Analyse mit Heatmaps, etc."
   ]
  },
  {
   "cell_type": "code",
   "execution_count": null,
   "id": "c5dc8984",
   "metadata": {},
   "outputs": [],
   "source": [
    "import itertools\n",
    "import numpy as np\n",
    "import pandas as pd\n",
    "from sklearn.metrics import accuracy_score, f1_score\n",
    "import xgboost as xgb"
   ]
  },
  {
   "cell_type": "markdown",
   "id": "1b06994a",
   "metadata": {},
   "source": [
    "learning rate --- max_depth\n",
    "\n",
    "Tiefere Bäume benötigen niedrige Lernraten um Overfitting zu vermeiden und stabile Konvergenz zu gewährleisten. Hohe Lernraten mit tiefen Bäumen führen zu instabilem Training."
   ]
  },
  {
   "cell_type": "code",
   "execution_count": null,
   "id": "b946b6c8",
   "metadata": {},
   "outputs": [],
   "source": [
    "learning_rates = [0.01, 0.05, 0.1, 0.2]\n",
    "max_depths = [3, 5, 7, 9, 12]\n",
    "\n",
    "results = []"
   ]
  },
  {
   "cell_type": "code",
   "execution_count": null,
   "id": "a3d2180c",
   "metadata": {},
   "outputs": [],
   "source": [
    "for lr, md in itertools.product(learning_rates, max_depths):\n",
    "    scores = []\n",
    "   \n",
    "    model = xgb.XGBClassifier(\n",
    "    objective=\"multi:softprob\",\n",
    "    num_class= 5,\n",
    "    eval_metric=\"mlogloss\",\n",
    "    use_label_encoder=False,\n",
    "    random_state= 42,\n",
    "    learning_rate=lr,\n",
    "    max_depth=md,\n",
    "    n_estimators=200  # fix, wenn nicht die zweite Hypothese\n",
    "        )"
   ]
  }
 ],
 "metadata": {
  "kernelspec": {
   "display_name": "base",
   "language": "python",
   "name": "python3"
  },
  "language_info": {
   "name": "python",
   "version": "3.12.9"
  }
 },
 "nbformat": 4,
 "nbformat_minor": 5
}
