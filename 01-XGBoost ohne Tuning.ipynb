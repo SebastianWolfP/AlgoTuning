{
 "cells": [
  {
   "cell_type": "markdown",
   "id": "a38fb92d",
   "metadata": {},
   "source": [
    "# XGBoost Basis"
   ]
  },
  {
   "cell_type": "code",
   "execution_count": 5,
   "id": "60339a5d",
   "metadata": {},
   "outputs": [
    {
     "name": "stdout",
     "output_type": "stream",
     "text": [
      "c:\\Users\\faulh\\anaconda3\\python.exe\n"
     ]
    }
   ],
   "source": [
    "import sys\n",
    "print(sys.executable)"
   ]
  },
  {
   "cell_type": "code",
   "execution_count": 6,
   "id": "a8ee5b19",
   "metadata": {},
   "outputs": [
    {
     "name": "stdout",
     "output_type": "stream",
     "text": [
      "Collecting xgboost\n",
      "  Downloading xgboost-3.0.4-py3-none-win_amd64.whl (56.8 MB)\n",
      "                                              0.0/56.8 MB ? eta -:--:--\n",
      "                                              0.1/56.8 MB 2.4 MB/s eta 0:00:24\n",
      "                                              0.4/56.8 MB 4.0 MB/s eta 0:00:15\n",
      "                                              0.7/56.8 MB 4.8 MB/s eta 0:00:12\n",
      "                                              1.1/56.8 MB 5.8 MB/s eta 0:00:10\n",
      "     -                                        1.5/56.8 MB 6.3 MB/s eta 0:00:09\n",
      "     -                                        1.9/56.8 MB 7.0 MB/s eta 0:00:08\n",
      "     -                                        2.3/56.8 MB 7.3 MB/s eta 0:00:08\n",
      "     -                                        2.8/56.8 MB 7.5 MB/s eta 0:00:08\n",
      "     --                                       3.2/56.8 MB 7.8 MB/s eta 0:00:07\n",
      "     --                                       3.6/56.8 MB 7.9 MB/s eta 0:00:07\n",
      "     --                                       4.1/56.8 MB 8.2 MB/s eta 0:00:07\n",
      "     ---                                      4.6/56.8 MB 8.3 MB/s eta 0:00:07\n",
      "     ---                                      4.9/56.8 MB 8.5 MB/s eta 0:00:07\n",
      "     ---                                      5.4/56.8 MB 8.4 MB/s eta 0:00:07\n",
      "     ----                                     5.9/56.8 MB 8.6 MB/s eta 0:00:06\n",
      "     ----                                     6.4/56.8 MB 8.7 MB/s eta 0:00:06\n",
      "     ----                                     6.9/56.8 MB 8.8 MB/s eta 0:00:06\n",
      "     -----                                    7.3/56.8 MB 9.0 MB/s eta 0:00:06\n",
      "     -----                                    7.8/56.8 MB 9.0 MB/s eta 0:00:06\n",
      "     -----                                    8.3/56.8 MB 9.1 MB/s eta 0:00:06\n",
      "     ------                                   8.7/56.8 MB 9.1 MB/s eta 0:00:06\n",
      "     ------                                   9.1/56.8 MB 9.1 MB/s eta 0:00:06\n",
      "     ------                                   9.6/56.8 MB 9.2 MB/s eta 0:00:06\n",
      "     -------                                  10.0/56.8 MB 9.2 MB/s eta 0:00:06\n",
      "     -------                                  10.5/56.8 MB 9.6 MB/s eta 0:00:05\n",
      "     -------                                  10.9/56.8 MB 9.8 MB/s eta 0:00:05\n",
      "     --------                                 11.4/56.8 MB 9.9 MB/s eta 0:00:05\n",
      "     --------                                11.9/56.8 MB 10.1 MB/s eta 0:00:05\n",
      "     --------                                12.4/56.8 MB 10.2 MB/s eta 0:00:05\n",
      "     --------                                12.9/56.8 MB 10.1 MB/s eta 0:00:05\n",
      "     ---------                               13.4/56.8 MB 10.2 MB/s eta 0:00:05\n",
      "     ---------                               13.8/56.8 MB 10.2 MB/s eta 0:00:05\n",
      "     ---------                               14.3/56.8 MB 10.2 MB/s eta 0:00:05\n",
      "     ----------                              14.7/56.8 MB 10.1 MB/s eta 0:00:05\n",
      "     ----------                              15.1/56.8 MB 10.1 MB/s eta 0:00:05\n",
      "     ----------                              15.6/56.8 MB 10.1 MB/s eta 0:00:05\n",
      "     -----------                             16.1/56.8 MB 10.2 MB/s eta 0:00:04\n",
      "     -----------                             16.6/56.8 MB 10.2 MB/s eta 0:00:04\n",
      "     -----------                             17.2/56.8 MB 10.2 MB/s eta 0:00:04\n",
      "     ------------                            17.7/56.8 MB 10.4 MB/s eta 0:00:04\n",
      "     ------------                            18.3/56.8 MB 10.4 MB/s eta 0:00:04\n",
      "     ------------                            18.8/56.8 MB 10.7 MB/s eta 0:00:04\n",
      "     -------------                           19.3/56.8 MB 10.7 MB/s eta 0:00:04\n",
      "     -------------                           19.8/56.8 MB 10.7 MB/s eta 0:00:04\n",
      "     -------------                           20.3/56.8 MB 10.9 MB/s eta 0:00:04\n",
      "     --------------                          20.8/56.8 MB 10.7 MB/s eta 0:00:04\n",
      "     --------------                          21.3/56.8 MB 10.9 MB/s eta 0:00:04\n",
      "     --------------                          21.9/56.8 MB 10.9 MB/s eta 0:00:04\n",
      "     ---------------                         22.4/56.8 MB 10.9 MB/s eta 0:00:04\n",
      "     ---------------                         22.9/56.8 MB 10.9 MB/s eta 0:00:04\n",
      "     ----------------                        23.4/56.8 MB 11.1 MB/s eta 0:00:04\n",
      "     ----------------                        23.9/56.8 MB 11.1 MB/s eta 0:00:03\n",
      "     ----------------                        24.4/56.8 MB 11.1 MB/s eta 0:00:03\n",
      "     -----------------                       24.9/56.8 MB 11.3 MB/s eta 0:00:03\n",
      "     -----------------                       24.9/56.8 MB 11.3 MB/s eta 0:00:03\n",
      "     -----------------                       25.8/56.8 MB 11.3 MB/s eta 0:00:03\n",
      "     ------------------                      26.3/56.8 MB 11.3 MB/s eta 0:00:03\n",
      "     ------------------                      26.8/56.8 MB 11.3 MB/s eta 0:00:03\n",
      "     ------------------                      27.3/56.8 MB 11.1 MB/s eta 0:00:03\n",
      "     ------------------                      27.7/56.8 MB 10.9 MB/s eta 0:00:03\n",
      "     -------------------                     28.2/56.8 MB 10.9 MB/s eta 0:00:03\n",
      "     -------------------                     28.5/56.8 MB 10.9 MB/s eta 0:00:03\n",
      "     -------------------                     28.9/56.8 MB 10.7 MB/s eta 0:00:03\n",
      "     --------------------                    29.2/56.8 MB 10.6 MB/s eta 0:00:03\n",
      "     --------------------                    29.6/56.8 MB 10.4 MB/s eta 0:00:03\n",
      "     --------------------                    30.0/56.8 MB 10.2 MB/s eta 0:00:03\n",
      "     --------------------                    30.3/56.8 MB 10.1 MB/s eta 0:00:03\n",
      "     ---------------------                    30.6/56.8 MB 9.9 MB/s eta 0:00:03\n",
      "     ---------------------                    31.0/56.8 MB 9.9 MB/s eta 0:00:03\n",
      "     ----------------------                   31.4/56.8 MB 9.6 MB/s eta 0:00:03\n",
      "     ----------------------                   31.8/56.8 MB 9.5 MB/s eta 0:00:03\n",
      "     ----------------------                   32.1/56.8 MB 9.4 MB/s eta 0:00:03\n",
      "     ----------------------                   32.4/56.8 MB 9.2 MB/s eta 0:00:03\n",
      "     -----------------------                  32.7/56.8 MB 9.1 MB/s eta 0:00:03\n",
      "     -----------------------                  33.1/56.8 MB 9.0 MB/s eta 0:00:03\n",
      "     -----------------------                  33.4/56.8 MB 8.8 MB/s eta 0:00:03\n",
      "     -----------------------                  33.8/56.8 MB 8.7 MB/s eta 0:00:03\n",
      "     ------------------------                 34.1/56.8 MB 8.6 MB/s eta 0:00:03\n",
      "     ------------------------                 34.5/56.8 MB 8.5 MB/s eta 0:00:03\n",
      "     ------------------------                 34.8/56.8 MB 8.5 MB/s eta 0:00:03\n",
      "     ------------------------                 35.2/56.8 MB 8.8 MB/s eta 0:00:03\n",
      "     -------------------------                35.6/56.8 MB 8.6 MB/s eta 0:00:03\n",
      "     -------------------------                36.0/56.8 MB 8.3 MB/s eta 0:00:03\n",
      "     -------------------------                36.3/56.8 MB 8.2 MB/s eta 0:00:03\n",
      "     -------------------------                36.5/56.8 MB 8.0 MB/s eta 0:00:03\n",
      "     -------------------------                36.8/56.8 MB 7.9 MB/s eta 0:00:03\n",
      "     --------------------------               37.0/56.8 MB 7.7 MB/s eta 0:00:03\n",
      "     --------------------------               37.1/56.8 MB 7.6 MB/s eta 0:00:03\n",
      "     --------------------------               37.1/56.8 MB 7.6 MB/s eta 0:00:03\n",
      "     --------------------------               37.1/56.8 MB 7.6 MB/s eta 0:00:03\n",
      "     --------------------------               38.0/56.8 MB 7.3 MB/s eta 0:00:03\n",
      "     --------------------------               38.3/56.8 MB 7.2 MB/s eta 0:00:03\n",
      "     ---------------------------              38.6/56.8 MB 7.2 MB/s eta 0:00:03\n",
      "     ---------------------------              39.0/56.8 MB 7.1 MB/s eta 0:00:03\n",
      "     ---------------------------              39.3/56.8 MB 7.1 MB/s eta 0:00:03\n",
      "     ---------------------------              39.6/56.8 MB 7.1 MB/s eta 0:00:03\n",
      "     ----------------------------             40.0/56.8 MB 7.1 MB/s eta 0:00:03\n",
      "     ----------------------------             40.2/56.8 MB 7.1 MB/s eta 0:00:03\n",
      "     ----------------------------             40.6/56.8 MB 7.0 MB/s eta 0:00:03\n",
      "     ----------------------------             40.8/56.8 MB 7.0 MB/s eta 0:00:03\n",
      "     ----------------------------             41.1/56.8 MB 7.0 MB/s eta 0:00:03\n",
      "     -----------------------------            41.4/56.8 MB 7.0 MB/s eta 0:00:03\n",
      "     -----------------------------            41.8/56.8 MB 6.9 MB/s eta 0:00:03\n",
      "     -----------------------------            42.1/56.8 MB 6.9 MB/s eta 0:00:03\n",
      "     -----------------------------            42.5/56.8 MB 6.9 MB/s eta 0:00:03\n",
      "     ------------------------------           42.8/56.8 MB 6.9 MB/s eta 0:00:03\n",
      "     ------------------------------           43.1/56.8 MB 6.9 MB/s eta 0:00:02\n",
      "     ------------------------------           43.4/56.8 MB 6.8 MB/s eta 0:00:02\n",
      "     ------------------------------           43.7/56.8 MB 6.8 MB/s eta 0:00:02\n",
      "     ------------------------------           44.0/56.8 MB 6.8 MB/s eta 0:00:02\n",
      "     -------------------------------          44.3/56.8 MB 6.7 MB/s eta 0:00:02\n",
      "     -------------------------------          44.5/56.8 MB 6.7 MB/s eta 0:00:02\n",
      "     -------------------------------          44.9/56.8 MB 6.7 MB/s eta 0:00:02\n",
      "     -------------------------------          45.3/56.8 MB 6.7 MB/s eta 0:00:02\n",
      "     --------------------------------         45.6/56.8 MB 6.7 MB/s eta 0:00:02\n",
      "     --------------------------------         45.9/56.8 MB 6.7 MB/s eta 0:00:02\n",
      "     --------------------------------         46.3/56.8 MB 6.7 MB/s eta 0:00:02\n",
      "     --------------------------------         46.6/56.8 MB 6.7 MB/s eta 0:00:02\n",
      "     --------------------------------         46.9/56.8 MB 6.7 MB/s eta 0:00:02\n",
      "     ---------------------------------        47.2/56.8 MB 6.8 MB/s eta 0:00:02\n",
      "     ---------------------------------        47.5/56.8 MB 7.4 MB/s eta 0:00:02\n",
      "     ---------------------------------        47.8/56.8 MB 7.1 MB/s eta 0:00:02\n",
      "     ---------------------------------        48.0/56.8 MB 6.9 MB/s eta 0:00:02\n",
      "     ----------------------------------       48.3/56.8 MB 7.0 MB/s eta 0:00:02\n",
      "     ----------------------------------       48.7/56.8 MB 6.9 MB/s eta 0:00:02\n",
      "     ----------------------------------       49.0/56.8 MB 6.9 MB/s eta 0:00:02\n",
      "     ----------------------------------       49.3/56.8 MB 6.9 MB/s eta 0:00:02\n",
      "     ----------------------------------       49.7/56.8 MB 6.9 MB/s eta 0:00:02\n",
      "     -----------------------------------      50.1/56.8 MB 6.9 MB/s eta 0:00:01\n",
      "     -----------------------------------      50.5/56.8 MB 7.0 MB/s eta 0:00:01\n",
      "     -----------------------------------      50.8/56.8 MB 7.0 MB/s eta 0:00:01\n",
      "     ------------------------------------     51.2/56.8 MB 7.1 MB/s eta 0:00:01\n",
      "     ------------------------------------     51.5/56.8 MB 7.1 MB/s eta 0:00:01\n",
      "     ------------------------------------     51.9/56.8 MB 7.2 MB/s eta 0:00:01\n",
      "     ------------------------------------     52.2/56.8 MB 7.2 MB/s eta 0:00:01\n",
      "     -------------------------------------    52.6/56.8 MB 7.3 MB/s eta 0:00:01\n",
      "     -------------------------------------    52.9/56.8 MB 7.2 MB/s eta 0:00:01\n",
      "     -------------------------------------    53.2/56.8 MB 7.2 MB/s eta 0:00:01\n",
      "     -------------------------------------    53.6/56.8 MB 7.3 MB/s eta 0:00:01\n",
      "     -------------------------------------    54.0/56.8 MB 7.3 MB/s eta 0:00:01\n",
      "     --------------------------------------   54.3/56.8 MB 7.4 MB/s eta 0:00:01\n",
      "     --------------------------------------   54.6/56.8 MB 7.4 MB/s eta 0:00:01\n",
      "     --------------------------------------   54.9/56.8 MB 7.4 MB/s eta 0:00:01\n",
      "     --------------------------------------   55.2/56.8 MB 7.4 MB/s eta 0:00:01\n",
      "     ---------------------------------------  55.6/56.8 MB 7.4 MB/s eta 0:00:01\n",
      "     ---------------------------------------  56.0/56.8 MB 7.4 MB/s eta 0:00:01\n",
      "     ---------------------------------------  56.3/56.8 MB 7.4 MB/s eta 0:00:01\n",
      "     ---------------------------------------  56.7/56.8 MB 7.4 MB/s eta 0:00:01\n",
      "     ---------------------------------------  56.8/56.8 MB 7.3 MB/s eta 0:00:01\n",
      "     ---------------------------------------  56.8/56.8 MB 7.3 MB/s eta 0:00:01\n",
      "     ---------------------------------------  56.8/56.8 MB 7.3 MB/s eta 0:00:01\n",
      "     ---------------------------------------- 56.8/56.8 MB 6.4 MB/s eta 0:00:00\n",
      "Requirement already satisfied: numpy in c:\\users\\faulh\\anaconda3\\lib\\site-packages (from xgboost) (1.24.3)\n",
      "Requirement already satisfied: scipy in c:\\users\\faulh\\anaconda3\\lib\\site-packages (from xgboost) (1.10.1)\n",
      "Installing collected packages: xgboost\n",
      "Successfully installed xgboost-3.0.4\n"
     ]
    }
   ],
   "source": [
    "!{sys.executable} -m pip install xgboost"
   ]
  },
  {
   "cell_type": "code",
   "execution_count": 7,
   "id": "900a4dd0",
   "metadata": {},
   "outputs": [],
   "source": [
    "import pandas as pd\n",
    "import xgboost as xgb\n",
    "from sklearn.metrics import classification_report"
   ]
  },
  {
   "cell_type": "code",
   "execution_count": 9,
   "id": "baae8f96",
   "metadata": {},
   "outputs": [
    {
     "name": "stderr",
     "output_type": "stream",
     "text": [
      "c:\\Users\\faulh\\anaconda3\\Lib\\site-packages\\xgboost\\training.py:183: UserWarning: [09:54:58] WARNING: C:\\actions-runner\\_work\\xgboost\\xgboost\\src\\learner.cc:738: \n",
      "Parameters: { \"use_label_encoder\" } are not used.\n",
      "\n",
      "  bst.update(dtrain, iteration=i, fobj=obj)\n"
     ]
    },
    {
     "name": "stdout",
     "output_type": "stream",
     "text": [
      "              precision    recall  f1-score   support\n",
      "\n",
      "           0       1.00      0.00      0.00      3972\n",
      "           1       0.00      0.00      0.00         0\n",
      "           2       0.00      0.00      0.00         0\n",
      "           3       0.00      0.00      0.00         0\n",
      "           4       0.00      0.00      0.00         0\n",
      "\n",
      "    accuracy                           0.00      3972\n",
      "   macro avg       0.20      0.00      0.00      3972\n",
      "weighted avg       1.00      0.00      0.00      3972\n",
      "\n"
     ]
    },
    {
     "name": "stderr",
     "output_type": "stream",
     "text": [
      "c:\\Users\\faulh\\anaconda3\\Lib\\site-packages\\sklearn\\metrics\\_classification.py:1344: UndefinedMetricWarning: Recall and F-score are ill-defined and being set to 0.0 in labels with no true samples. Use `zero_division` parameter to control this behavior.\n",
      "  _warn_prf(average, modifier, msg_start, len(result))\n",
      "c:\\Users\\faulh\\anaconda3\\Lib\\site-packages\\sklearn\\metrics\\_classification.py:1344: UndefinedMetricWarning: Recall and F-score are ill-defined and being set to 0.0 in labels with no true samples. Use `zero_division` parameter to control this behavior.\n",
      "  _warn_prf(average, modifier, msg_start, len(result))\n",
      "c:\\Users\\faulh\\anaconda3\\Lib\\site-packages\\sklearn\\metrics\\_classification.py:1344: UndefinedMetricWarning: Recall and F-score are ill-defined and being set to 0.0 in labels with no true samples. Use `zero_division` parameter to control this behavior.\n",
      "  _warn_prf(average, modifier, msg_start, len(result))\n"
     ]
    }
   ],
   "source": [
    "# 📥 1. Daten einlesen\n",
    "df = pd.read_csv(\"data/train_preprocessed.csv\")         # Trainingsdaten mit Zielspalte\n",
    "test = pd.read_csv(\"data/test_preprocessed.csv\")        # Testdaten ohne Zielspalte\n",
    "target = pd.read_csv(\"data/test_target.csv\")  # Testzielwerte mit AdoptionSpeed + PetID\n",
    "\n",
    "# 🧹 2. Features & Ziel trennen\n",
    "X_train = df.drop(columns=[\"AdoptionSpeed\", \"PetID\"])\n",
    "y_train = df[\"AdoptionSpeed\"]\n",
    "\n",
    "X_test = test.drop(columns=[\"PetID\"])\n",
    "y_test = target[\"AdoptionSpeed\"]  # Zielwerte für Test (optional)\n",
    "\n",
    "# 🧠 3. XGBoost-Modell mit Defaultparametern + reproduzierbarem Seed\n",
    "model = xgb.XGBClassifier(\n",
    "    objective=\"multi:softprob\",\n",
    "    num_class=5,\n",
    "    use_label_encoder=False,\n",
    "    eval_metric=\"mlogloss\",\n",
    "    random_state=42\n",
    ")\n",
    "\n",
    "# 🚀 4. Training\n",
    "model.fit(X_train, y_train)\n",
    "\n",
    "# 🔍 5. Vorhersage auf Testdaten\n",
    "y_pred = model.predict(X_test)\n",
    "\n",
    "# 📊 6. Evaluation (falls Zielwerte vorhanden)\n",
    "print(classification_report(y_test, y_pred))\n",
    "\n",
    "# 🧾 7. Ergebnis zusammenführen (optional)\n",
    "result_df = pd.DataFrame({\n",
    "    \"PetID\": test[\"PetID\"],\n",
    "    \"AdoptionSpeed_Pred\": y_pred,\n",
    "    \"AdoptionSpeed_True\": y_test.values\n",
    "})\n",
    "\n",
    "# 💾 8. Optional: Submission speichern\n",
    "submission = pd.DataFrame({\n",
    "    \"PetID\": test[\"PetID\"],\n",
    "    \"AdoptionSpeed\": y_pred\n",
    "})\n",
    "submission.to_csv(\"submission.csv\", index=False)\n"
   ]
  },
  {
   "cell_type": "code",
   "execution_count": 10,
   "id": "847710d8",
   "metadata": {},
   "outputs": [
    {
     "name": "stdout",
     "output_type": "stream",
     "text": [
      "0    3972\n",
      "Name: AdoptionSpeed, dtype: int64\n"
     ]
    }
   ],
   "source": [
    "print(y_test.value_counts())\n"
   ]
  },
  {
   "cell_type": "code",
   "execution_count": 11,
   "id": "05863b74",
   "metadata": {},
   "outputs": [
    {
     "name": "stdout",
     "output_type": "stream",
     "text": [
      "<class 'pandas.core.frame.DataFrame'>\n",
      "RangeIndex: 3972 entries, 0 to 3971\n",
      "Data columns (total 2 columns):\n",
      " #   Column         Non-Null Count  Dtype \n",
      "---  ------         --------------  ----- \n",
      " 0   PetID          3972 non-null   object\n",
      " 1   AdoptionSpeed  3972 non-null   int64 \n",
      "dtypes: int64(1), object(1)\n",
      "memory usage: 62.2+ KB\n"
     ]
    }
   ],
   "source": [
    "target.info()"
   ]
  },
  {
   "cell_type": "code",
   "execution_count": 12,
   "id": "8d139982",
   "metadata": {},
   "outputs": [
    {
     "data": {
      "text/plain": [
       "<sklearn.metrics._plot.confusion_matrix.ConfusionMatrixDisplay at 0x18a12b9da50>"
      ]
     },
     "execution_count": 12,
     "metadata": {},
     "output_type": "execute_result"
    },
    {
     "data": {
      "image/png": "[encoded data removed]",
      "text/plain": [
       "<Figure size 640x480 with 2 Axes>"
      ]
     },
     "metadata": {},
     "output_type": "display_data"
    }
   ],
   "source": [
    "from sklearn.metrics import confusion_matrix, ConfusionMatrixDisplay\n",
    "import numpy as np\n",
    "import pandas as pd\n",
    "\n",
    "# Confusion Matrix berechnen\n",
    "cm = confusion_matrix(y_test, y_pred, labels=[0, 1, 2, 3, 4])\n",
    "\n",
    "# Anzeige\n",
    "disp = ConfusionMatrixDisplay(confusion_matrix=cm, display_labels=[0, 1, 2, 3, 4])\n",
    "disp.plot()\n",
    "#"
   ]
  },
  {
   "cell_type": "code",
   "execution_count": 14,
   "id": "ab21f402",
   "metadata": {},
   "outputs": [
    {
     "name": "stdout",
     "output_type": "stream",
     "text": [
      "4    4197\n",
      "2    4037\n",
      "3    3259\n",
      "1    3090\n",
      "0     410\n",
      "Name: AdoptionSpeed, dtype: int64\n"
     ]
    }
   ],
   "source": [
    "print(y_train.value_counts())\n"
   ]
  },
  {
   "cell_type": "code",
   "execution_count": null,
   "id": "bf091a5e",
   "metadata": {},
   "outputs": [
    {
     "name": "stdout",
     "output_type": "stream",
     "text": [
      "{'max_depth': 9}\n"
     ]
    },
    {
     "ename": "",
     "evalue": "",
     "output_type": "error",
     "traceback": [
      "\u001b[1;31mThe Kernel crashed while executing code in the current cell or a previous cell. \n",
      "\u001b[1;31mPlease review the code in the cell(s) to identify a possible cause of the failure. \n",
      "\u001b[1;31mClick <a href='https://aka.ms/vscodeJupyterKernelCrash'>here</a> for more info. \n",
      "\u001b[1;31mView Jupyter <a href='command:jupyter.viewOutput'>log</a> for further details."
     ]
    }
   ],
   "source": [
    "from sklearn.model_selection import GridSearchCV\n",
    "\n",
    "param_grid = {\n",
    "    \"max_depth\": [3, 5, 7, 9]\n",
    "}\n",
    "\n",
    "grid = GridSearchCV(\n",
    "    xgb.XGBClassifier(random_state=42),\n",
    "    param_grid,\n",
    "    scoring=\"accuracy\",\n",
    "    cv=3\n",
    ")\n",
    "grid.fit(X_train, y_train)\n",
    "print(grid.best_params_)\n"
   ]
  }
 ],
 "metadata": {
  "kernelspec": {
   "display_name": "base",
   "language": "python",
   "name": "python3"
  },
  "language_info": {
   "codemirror_mode": {
    "name": "ipython",
    "version": 3
   },
   "file_extension": ".py",
   "mimetype": "text/x-python",
   "name": "python",
   "nbconvert_exporter": "python",
   "pygments_lexer": "ipython3",
   "version": "3.11.3"
  }
 },
 "nbformat": 4,
 "nbformat_minor": 5
}
